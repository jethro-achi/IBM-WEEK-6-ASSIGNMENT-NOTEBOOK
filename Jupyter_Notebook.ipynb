{
 "cells": [
  {
   "cell_type": "markdown",
   "metadata": {},
   "source": [
    "<center>\n",
    "    <img src=\"https://cf-courses-data.s3.us.cloud-object-storage.appdomain.cloud/IBMDeveloperSkillsNetwork-DS0105EN-SkillsNetwork/labs/Module2/images/SN_web_lightmode.png\" width=\"300\" alt=\"cognitiveclass.ai logo\">\n",
    "</center>\n"
   ]
  },
  {
   "cell_type": "markdown",
   "metadata": {},
   "source": [
    "#### Add your code below following the instructions given in the course\n"
   ]
  },
  {
   "cell_type": "markdown",
   "metadata": {
    "tags": []
   },
   "source": [
    "# IBM WEEK 6 ASSIGNMENT NOTEBOOK"
   ]
  },
  {
   "cell_type": "markdown",
   "metadata": {
    "jp-MarkdownHeadingCollapsed": true,
    "tags": []
   },
   "source": [
    "### INTRODUCTION\n",
    "Welcome to the culmination of my data science journey! This final project is designed to assess my understanding and application of various concepts covered throughout the course;\n",
    "1. Markdown Mastery\n",
    "2. Coding Challenges\n",
    "3. Project Documentation\n",
    "4. Sharing and Presentation\n",
    "\n",
    "This project is not only an opportunity to demonstrate your technical skills but also a chance to present your work in a clear and organized manner. "
   ]
  },
  {
   "cell_type": "markdown",
   "metadata": {
    "tags": []
   },
   "source": [
    "# Objectives\n",
    "\n",
    "The objectives of this data science final project are as follows:\n",
    "\n",
    "1. **Markdown Mastery:**\n",
    "   - Create a markdown cell with the title of the notebook.\n",
    "   - Craft a markdown cell for an introduction.\n",
    "\n",
    "2. **Data Science Essentials:**\n",
    "   - List data science languages in a markdown cell.\n",
    "   - Enumerate data science libraries in another markdown cell.\n",
    "   - Design a markdown cell with a table of essential Data Science tools.\n",
    "\n",
    "3. **Coding Challenges:**\n",
    "   - Introduce arithmetic expression examples in a markdown cell.\n",
    "   - Create a code cell to showcase multiplication and addition of numbers.\n",
    "   - Develop a code cell for converting minutes to hours.\n",
    "\n",
    "4. **Project Documentation:**\n",
    "   - Insert a markdown cell listing project objectives.\n",
    "   - Create a markdown cell attributing the project to the author.\n",
    "\n",
    "5. **Sharing and Presentation:**\n",
    "   - Share the completed notebook through GitHub.\n",
    "   - Capture and insert a screenshot of the first page of the notebook.\n",
    "\n",
    "These objectives are designed to assess your proficiency in various aspects of data science, including markdown usage, coding skills, and effective project documentation.\n"
   ]
  },
  {
   "cell_type": "markdown",
   "metadata": {},
   "source": [
    "# Data Science Languages\n",
    "\n",
    "1. **Python**: Widely used for data analysis, machine learning, and general-purpose programming.\n",
    "2. **R**: Specifically designed for statistical computing and data visualization.\n",
    "3. **Julia**: Known for its high-performance numerical and scientific computing capabilities.\n",
    "4. **SQL**: Essential for database management and querying structured data.\n",
    "5. **Scala**: Often used in big data processing with frameworks like Apache Spark.\n",
    "6. **Java**: Popular for developing large-scale data processing applications.\n",
    "7. **MATLAB**: Commonly used in academia and industry for numerical computing and data analysis.\n",
    "8. **SAS**: Widely used for statistical analysis, business intelligence, and data management.\n"
   ]
  },
  {
   "cell_type": "markdown",
   "metadata": {},
   "source": [
    "# Data Science Libraries\n",
    "\n",
    "1. **NumPy**: Fundamental package for scientific computing with Python.\n",
    "2. **Pandas**: Data manipulation and analysis library, providing data structures like DataFrame.\n",
    "3. **Matplotlib**: Comprehensive 2D plotting library for creating static, interactive, and animated visualizations in Python.\n",
    "4. **Seaborn**: Statistical data visualization library based on Matplotlib, making plots more attractive and informative.\n",
    "5. **Scikit-learn**: Machine learning library offering simple and efficient tools for data analysis and modeling.\n",
    "6. **TensorFlow**: Open-source machine learning framework developed by Google for building and training deep learning models.\n",
    "7. **PyTorch**: Deep learning library known for its flexibility and dynamic computational graph.\n",
    "8. **NLTK (Natural Language Toolkit)**: Library for working with human language data, particularly for text processing and analysis.\n",
    "9. **Beautiful Soup**: Library for pulling data out of HTML and XML files, useful for web scraping.\n",
    "10. **Statsmodels**: Library for estimating and testing statistical models.\n"
   ]
  },
  {
   "cell_type": "markdown",
   "metadata": {},
   "source": [
    "# Arithmetic Expression Examples\n",
    "\n",
    "In data science and programming, understanding and manipulating numerical values are fundamental skills. Arithmetic expressions allow us to perform mathematical operations and calculations. Let's explore some basic examples:\n",
    "\n",
    "**Addition (+):**\n",
    "\n",
    "   result_addition = 5 + 3\n",
    "   ##### Output: 8\n",
    "   \n",
    "Explanation: This example demonstrates the addition operation. The variable result_addition stores the sum of 5 and 3, which is 8."
   ]
  },
  {
   "cell_type": "markdown",
   "metadata": {},
   "source": [
    "**Subtraction (-):**\n",
    "\n",
    "result_subtraction = 10 - 4\n",
    "##### Output: 6\n",
    "Explanation: This example showcases the subtraction operation. The variable result_subtraction stores the difference between 10 and 4, which is 6."
   ]
  },
  {
   "cell_type": "markdown",
   "metadata": {},
   "source": [
    "**Multiplication (*):**\n",
    "\n",
    "result_multiplication = 6 * 7\n",
    "##### Output: 42\n",
    "Explanation: Here, multiplication is illustrated. The variable result_multiplication holds the product of 6 and 7, resulting in 42."
   ]
  },
  {
   "cell_type": "markdown",
   "metadata": {},
   "source": [
    "**Division (/):**\n",
    "\n",
    "result_division = 17 / 3\n",
    "##### Output: 5.0\n",
    "Explanation: This example demonstrates the division operation. The variable result_division stores the quotient of dividing 15 by 3, which is 5.0 (a float)."
   ]
  },
  {
   "cell_type": "markdown",
   "metadata": {},
   "source": [
    "**Exponentiation ( ** ):**\n",
    "\n",
    "result_exponentiation = 2 ** 3\n",
    "##### Output: 8\n",
    "Explanation: Exponentiation involves raising a number to the power of another. Here, result_exponentiation holds the result of 2 raised to the power of 3, which is 8."
   ]
  },
  {
   "cell_type": "markdown",
   "metadata": {},
   "source": [
    "**Exponentiation ( ** ):**\n",
    "\n",
    "result_modulus = 10 % 3\n",
    "##### Output: 1\n",
    "Explanation: The modulus operation calculates the remainder after division. In this case, result_modulus stores the remainder when 10 is divided by 3, which is 1."
   ]
  },
  {
   "cell_type": "markdown",
   "metadata": {},
   "source": [
    "# Multiply and Add Numbers"
   ]
  },
  {
   "cell_type": "code",
   "execution_count": null,
   "metadata": {
    "tags": []
   },
   "outputs": [],
   "source": [
    "# Multiply and Add Numbers\n",
    "num1 = float(input(\"Enter the first number: \"))\n",
    "num2 = float(input(\"Enter the second number: \"))\n",
    "\n",
    "# Multiplication\n",
    "result_multiply = num1 * num2\n",
    "print(f'Multiplication Result: {result_multiply}')\n",
    "\n",
    "# Addition\n",
    "result_addition = num1 + num2\n",
    "print(f'Addition Result: {result_addition}')"
   ]
  },
  {
   "cell_type": "markdown",
   "metadata": {},
   "source": [
    "# Convert Minutes to Hours"
   ]
  },
  {
   "cell_type": "code",
   "execution_count": 3,
   "metadata": {
    "tags": []
   },
   "outputs": [
    {
     "name": "stdin",
     "output_type": "stream",
     "text": [
      "Enter the number of minutes:  23\n"
     ]
    },
    {
     "name": "stdout",
     "output_type": "stream",
     "text": [
      "23.0 minutes is equal to 0.38 hours.\n"
     ]
    }
   ],
   "source": [
    "# Convert Minutes to Hours\n",
    "minutes = float(input(\"Enter the number of minutes: \"))\n",
    "\n",
    "# Conversion\n",
    "hours = minutes / 60\n",
    "print(f'{minutes} minutes is equal to {hours:.2f} hours.')"
   ]
  },
  {
   "cell_type": "markdown",
   "metadata": {
    "tags": []
   },
   "source": [
    "# Author\n",
    "The data science final project is authored by Jethro Achelam."
   ]
  },
  {
   "cell_type": "code",
   "execution_count": null,
   "metadata": {},
   "outputs": [],
   "source": []
  }
 ],
 "metadata": {
  "kernelspec": {
   "display_name": "Python",
   "language": "python",
   "name": "conda-env-python-py"
  },
  "language_info": {
   "codemirror_mode": {
    "name": "ipython",
    "version": 3
   },
   "file_extension": ".py",
   "mimetype": "text/x-python",
   "name": "python",
   "nbconvert_exporter": "python",
   "pygments_lexer": "ipython3",
   "version": "3.7.12"
  }
 },
 "nbformat": 4,
 "nbformat_minor": 4
}
